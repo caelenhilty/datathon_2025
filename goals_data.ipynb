{
 "cells": [
  {
   "cell_type": "markdown",
   "metadata": {},
   "source": [
    "This file compiles a new csv with every shot taken in the top five leagues"
   ]
  },
  {
   "cell_type": "code",
   "execution_count": 1,
   "metadata": {},
   "outputs": [],
   "source": [
    "import numpy as np\n",
    "import pandas as pd\n",
    "import matplotlib.pyplot as plt\n",
    "import sklearn"
   ]
  },
  {
   "cell_type": "code",
   "execution_count": 11,
   "metadata": {},
   "outputs": [
    {
     "name": "stderr",
     "output_type": "stream",
     "text": [
      "C:\\Users\\caele\\AppData\\Local\\Temp\\ipykernel_11088\\2743355242.py:21: DtypeWarning: Columns (2,7) have mixed types. Specify dtype option on import or set low_memory=False.\n",
      "  df_players = pd.read_csv(filename)\n"
     ]
    }
   ],
   "source": [
    "dir1 = \"\"\n",
    "\n",
    "# read in teams.csv\n",
    "filename = dir1 + r\"base_data/teams.csv\"\n",
    "df_teams = pd.read_csv(filename)\n",
    "\n",
    "# read in leagues.csv\n",
    "filename = dir1 + r\"base_data/leagues.csv\"\n",
    "df_leagues = pd.read_csv(filename)\n",
    "\n",
    "# read in teamStats.csv\n",
    "filename = dir1 + r\"base_data/teamStats.csv\"\n",
    "df_teamStats = pd.read_csv(filename)\n",
    "\n",
    "# read in fixtures.csv\n",
    "filename = dir1 + r\"base_data/fixtures.csv\"\n",
    "df_fixtures = pd.read_csv(filename)\n",
    "\n",
    "# read in players.csv\n",
    "filename = dir1 + r\"base_data/players.csv\"\n",
    "df_players = pd.read_csv(filename)\n",
    "\n",
    "# read in keyEventDescription.csv\n",
    "filename = dir1 + r\"base_data/keyEventDescription.csv\"\n",
    "df_keyEventDescription = pd.read_csv(filename)"
   ]
  },
  {
   "cell_type": "markdown",
   "metadata": {},
   "source": [
    "Features we care about: eventId, teamId, playerId, freekick, penalty, x_loc, y_loc, goal?, player position, time?"
   ]
  },
  {
   "cell_type": "code",
   "execution_count": 8,
   "metadata": {},
   "outputs": [],
   "source": [
    "# only look at teamStats from top five leagues\n",
    "valid_leagues = [\"English Premier League\", \"French Ligue 1\", \"Spanish LALIGA\", \"Italian Serie A\", \"German Bundesliga\"]\n",
    "valid_leagueIds = list(df_leagues[df_leagues['leagueName'].apply(lambda x: x in valid_leagues)]['leagueId'])\n",
    "valid_leagueMidsizeNames = list(df_leagues[df_leagues['leagueName'].apply(lambda x: x in valid_leagues)]['midsizeName'])\n",
    "valid_events = list(df_fixtures[df_fixtures['leagueId'].apply(lambda x: x in valid_leagueIds)]['eventId'])"
   ]
  },
  {
   "cell_type": "code",
   "execution_count": 10,
   "metadata": {},
   "outputs": [
    {
     "name": "stdout",
     "output_type": "stream",
     "text": [
      "(166191, 23)\n",
      "(166191, 23)\n"
     ]
    }
   ],
   "source": [
    "# load all plays\n",
    "fname = \"plays_data/plays_\" + str(2024) + \"_\" + valid_leagueMidsizeNames[0] + \".csv\"\n",
    "df_plays = pd.read_csv(fname)\n",
    "for mid_name in valid_leagueMidsizeNames[1:]:\n",
    "    fname = \"plays_data/plays_\" + str(2024) + \"_\" + mid_name + \".csv\"\n",
    "    df_temp = pd.read_csv(fname)\n",
    "    df_plays = pd.concat([df_plays, df_temp], ignore_index=True)\n",
    "print(df_plays.shape)\n",
    "df_plays = df_plays[df_plays['eventId'].apply(lambda x: x in valid_events)]\n",
    "print(df_plays.shape)\n",
    "del df_temp"
   ]
  },
  {
   "cell_type": "code",
   "execution_count": 12,
   "metadata": {},
   "outputs": [
    {
     "name": "stdout",
     "output_type": "stream",
     "text": [
      "(48598, 22)\n",
      "(48598, 22)\n"
     ]
    }
   ],
   "source": [
    "# load all key events that we want to analyze\n",
    "fname = \"keyEvents_data/keyEvents_\" + str(2024) + \"_\" + valid_leagueMidsizeNames[0] + \".csv\"\n",
    "df_keyEvents = pd.read_csv(fname)\n",
    "for mid_name in valid_leagueMidsizeNames[1:]:\n",
    "    fname = \"keyEvents_data/keyEvents_\" + str(2024) + \"_\" + mid_name + \".csv\"\n",
    "    df_temp = pd.read_csv(fname)\n",
    "    df_keyEvents = pd.concat([df_keyEvents, df_temp], ignore_index=True)\n",
    "print(df_keyEvents.shape)\n",
    "df_keyEvents = df_keyEvents[df_keyEvents['eventId'].apply(lambda x: x in valid_events)]\n",
    "print(df_keyEvents.shape)\n",
    "del df_temp"
   ]
  },
  {
   "cell_type": "code",
   "execution_count": 14,
   "metadata": {},
   "outputs": [
    {
     "data": {
      "text/plain": [
       "Index(['seasonType', 'eventId', 'keyEventOrder', 'playId', 'keyEventTypeId',\n",
       "       'period', 'clockValue', 'clockDisplayValue', 'scoringPlay', 'shootout',\n",
       "       'keyEventText', 'keyEventShortText', 'teamId', 'goalPositionX',\n",
       "       'goalPositionY', 'fieldPositionX', 'fieldPositionY', 'fieldPosition2X',\n",
       "       'fieldPosition2Y', 'participantOrder', 'athleteId', 'updateDateTime'],\n",
       "      dtype='object')"
      ]
     },
     "execution_count": 14,
     "metadata": {},
     "output_type": "execute_result"
    }
   ],
   "source": [
    "df_keyEvents.columns"
   ]
  },
  {
   "cell_type": "code",
   "execution_count": 15,
   "metadata": {},
   "outputs": [
    {
     "data": {
      "text/plain": [
       "Index(['seasonType', 'eventId', 'playOrder', 'playId', 'typeId', 'text',\n",
       "       'shortText', 'period', 'clockValue', 'clockDisplayValue', 'teamId',\n",
       "       'scoringPlay', 'shootout', 'wallclock', 'goalPositionX',\n",
       "       'goalPositionY', 'fieldpositionX', 'fieldPositionY', 'fieldPosition2X',\n",
       "       'fieldPosition2Y', 'athleteId', 'participant', 'updateDateTime'],\n",
       "      dtype='object')"
      ]
     },
     "execution_count": 15,
     "metadata": {},
     "output_type": "execute_result"
    }
   ],
   "source": [
    "df_plays.columns"
   ]
  },
  {
   "cell_type": "code",
   "execution_count": null,
   "metadata": {},
   "outputs": [],
   "source": []
  }
 ],
 "metadata": {
  "kernelspec": {
   "display_name": "datathon_2025",
   "language": "python",
   "name": "python3"
  },
  "language_info": {
   "codemirror_mode": {
    "name": "ipython",
    "version": 3
   },
   "file_extension": ".py",
   "mimetype": "text/x-python",
   "name": "python",
   "nbconvert_exporter": "python",
   "pygments_lexer": "ipython3",
   "version": "3.13.2"
  }
 },
 "nbformat": 4,
 "nbformat_minor": 2
}
